{
  "nbformat": 4,
  "nbformat_minor": 0,
  "metadata": {
    "colab": {
      "name": "Maitreya Khanapurkar_ Logistic Reg.ipynb",
      "provenance": [],
      "include_colab_link": true
    },
    "kernelspec": {
      "name": "python3",
      "display_name": "Python 3"
    },
    "language_info": {
      "name": "python"
    }
  },
  "cells": [
    {
      "cell_type": "markdown",
      "metadata": {
        "id": "view-in-github",
        "colab_type": "text"
      },
      "source": [
        "<a href=\"https://colab.research.google.com/github/RedDevilMRK/MLA2021/blob/main/Maitreya_Khanapurkar__Logistic_Reg.ipynb\" target=\"_parent\"><img src=\"https://colab.research.google.com/assets/colab-badge.svg\" alt=\"Open In Colab\"/></a>"
      ]
    },
    {
      "cell_type": "markdown",
      "metadata": {
        "id": "k1OrsyikbQK_"
      },
      "source": [
        " **HR\n",
        " **"
      ]
    },
    {
      "cell_type": "code",
      "metadata": {
        "id": "_4nXFDcjbJo2"
      },
      "source": [
        "import pandas as pd\n",
        "import numpy as np"
      ],
      "execution_count": 1,
      "outputs": []
    },
    {
      "cell_type": "code",
      "metadata": {
        "colab": {
          "base_uri": "https://localhost:8080/"
        },
        "id": "Grcpk14VbZxz",
        "outputId": "8decf50c-e227-4dde-ef4e-32f825d9d189"
      },
      "source": [
        "HR_df = pd.read_csv( \"https://raw.githubusercontent.com/RedDevilMRK/PYTHON/main/HR_comma_sep.csv\" )\n",
        "HR_df.info()"
      ],
      "execution_count": 2,
      "outputs": [
        {
          "output_type": "stream",
          "name": "stdout",
          "text": [
            "<class 'pandas.core.frame.DataFrame'>\n",
            "RangeIndex: 14999 entries, 0 to 14998\n",
            "Data columns (total 10 columns):\n",
            " #   Column                 Non-Null Count  Dtype  \n",
            "---  ------                 --------------  -----  \n",
            " 0   satisfaction_level     14999 non-null  float64\n",
            " 1   last_evaluation        14999 non-null  float64\n",
            " 2   number_project         14999 non-null  int64  \n",
            " 3   average_montly_hours   14999 non-null  int64  \n",
            " 4   time_spend_company     14999 non-null  int64  \n",
            " 5   Work_accident          14999 non-null  int64  \n",
            " 6   left                   14999 non-null  int64  \n",
            " 7   promotion_last_5years  14999 non-null  int64  \n",
            " 8   Department             14999 non-null  object \n",
            " 9   salary                 14999 non-null  object \n",
            "dtypes: float64(2), int64(6), object(2)\n",
            "memory usage: 1.1+ MB\n"
          ]
        }
      ]
    },
    {
      "cell_type": "code",
      "metadata": {
        "colab": {
          "base_uri": "https://localhost:8080/",
          "height": 204
        },
        "id": "SXpKfOc2dHWJ",
        "outputId": "442e0fba-4076-4f01-f98b-8222046a14fe"
      },
      "source": [
        "HR_df.iloc[0:5,1:7]"
      ],
      "execution_count": 3,
      "outputs": [
        {
          "output_type": "execute_result",
          "data": {
            "text/html": [
              "<div>\n",
              "<style scoped>\n",
              "    .dataframe tbody tr th:only-of-type {\n",
              "        vertical-align: middle;\n",
              "    }\n",
              "\n",
              "    .dataframe tbody tr th {\n",
              "        vertical-align: top;\n",
              "    }\n",
              "\n",
              "    .dataframe thead th {\n",
              "        text-align: right;\n",
              "    }\n",
              "</style>\n",
              "<table border=\"1\" class=\"dataframe\">\n",
              "  <thead>\n",
              "    <tr style=\"text-align: right;\">\n",
              "      <th></th>\n",
              "      <th>last_evaluation</th>\n",
              "      <th>number_project</th>\n",
              "      <th>average_montly_hours</th>\n",
              "      <th>time_spend_company</th>\n",
              "      <th>Work_accident</th>\n",
              "      <th>left</th>\n",
              "    </tr>\n",
              "  </thead>\n",
              "  <tbody>\n",
              "    <tr>\n",
              "      <th>0</th>\n",
              "      <td>0.53</td>\n",
              "      <td>2</td>\n",
              "      <td>157</td>\n",
              "      <td>3</td>\n",
              "      <td>0</td>\n",
              "      <td>1</td>\n",
              "    </tr>\n",
              "    <tr>\n",
              "      <th>1</th>\n",
              "      <td>0.86</td>\n",
              "      <td>5</td>\n",
              "      <td>262</td>\n",
              "      <td>6</td>\n",
              "      <td>0</td>\n",
              "      <td>1</td>\n",
              "    </tr>\n",
              "    <tr>\n",
              "      <th>2</th>\n",
              "      <td>0.88</td>\n",
              "      <td>7</td>\n",
              "      <td>272</td>\n",
              "      <td>4</td>\n",
              "      <td>0</td>\n",
              "      <td>1</td>\n",
              "    </tr>\n",
              "    <tr>\n",
              "      <th>3</th>\n",
              "      <td>0.87</td>\n",
              "      <td>5</td>\n",
              "      <td>223</td>\n",
              "      <td>5</td>\n",
              "      <td>0</td>\n",
              "      <td>1</td>\n",
              "    </tr>\n",
              "    <tr>\n",
              "      <th>4</th>\n",
              "      <td>0.52</td>\n",
              "      <td>2</td>\n",
              "      <td>159</td>\n",
              "      <td>3</td>\n",
              "      <td>0</td>\n",
              "      <td>1</td>\n",
              "    </tr>\n",
              "  </tbody>\n",
              "</table>\n",
              "</div>"
            ],
            "text/plain": [
              "   last_evaluation  number_project  ...  Work_accident  left\n",
              "0             0.53               2  ...              0     1\n",
              "1             0.86               5  ...              0     1\n",
              "2             0.88               7  ...              0     1\n",
              "3             0.87               5  ...              0     1\n",
              "4             0.52               2  ...              0     1\n",
              "\n",
              "[5 rows x 6 columns]"
            ]
          },
          "metadata": {},
          "execution_count": 3
        }
      ]
    },
    {
      "cell_type": "code",
      "metadata": {
        "colab": {
          "base_uri": "https://localhost:8080/",
          "height": 204
        },
        "id": "S5P_ncAKdNYR",
        "outputId": "9959549f-dd40-4b09-f404-763eaaefc16a"
      },
      "source": [
        "HR_df.iloc[0:5,7:]"
      ],
      "execution_count": 4,
      "outputs": [
        {
          "output_type": "execute_result",
          "data": {
            "text/html": [
              "<div>\n",
              "<style scoped>\n",
              "    .dataframe tbody tr th:only-of-type {\n",
              "        vertical-align: middle;\n",
              "    }\n",
              "\n",
              "    .dataframe tbody tr th {\n",
              "        vertical-align: top;\n",
              "    }\n",
              "\n",
              "    .dataframe thead th {\n",
              "        text-align: right;\n",
              "    }\n",
              "</style>\n",
              "<table border=\"1\" class=\"dataframe\">\n",
              "  <thead>\n",
              "    <tr style=\"text-align: right;\">\n",
              "      <th></th>\n",
              "      <th>promotion_last_5years</th>\n",
              "      <th>Department</th>\n",
              "      <th>salary</th>\n",
              "    </tr>\n",
              "  </thead>\n",
              "  <tbody>\n",
              "    <tr>\n",
              "      <th>0</th>\n",
              "      <td>0</td>\n",
              "      <td>sales</td>\n",
              "      <td>low</td>\n",
              "    </tr>\n",
              "    <tr>\n",
              "      <th>1</th>\n",
              "      <td>0</td>\n",
              "      <td>sales</td>\n",
              "      <td>medium</td>\n",
              "    </tr>\n",
              "    <tr>\n",
              "      <th>2</th>\n",
              "      <td>0</td>\n",
              "      <td>sales</td>\n",
              "      <td>medium</td>\n",
              "    </tr>\n",
              "    <tr>\n",
              "      <th>3</th>\n",
              "      <td>0</td>\n",
              "      <td>sales</td>\n",
              "      <td>low</td>\n",
              "    </tr>\n",
              "    <tr>\n",
              "      <th>4</th>\n",
              "      <td>0</td>\n",
              "      <td>sales</td>\n",
              "      <td>low</td>\n",
              "    </tr>\n",
              "  </tbody>\n",
              "</table>\n",
              "</div>"
            ],
            "text/plain": [
              "   promotion_last_5years Department  salary\n",
              "0                      0      sales     low\n",
              "1                      0      sales  medium\n",
              "2                      0      sales  medium\n",
              "3                      0      sales     low\n",
              "4                      0      sales     low"
            ]
          },
          "metadata": {},
          "execution_count": 4
        }
      ]
    },
    {
      "cell_type": "code",
      "metadata": {
        "colab": {
          "base_uri": "https://localhost:8080/"
        },
        "id": "wvsbt7P3dQzR",
        "outputId": "5953e57c-3b52-4006-a745-f727eaba751f"
      },
      "source": [
        "HR_df.promotion_last_5years.value_counts()"
      ],
      "execution_count": 5,
      "outputs": [
        {
          "output_type": "execute_result",
          "data": {
            "text/plain": [
              "0    14680\n",
              "1      319\n",
              "Name: promotion_last_5years, dtype: int64"
            ]
          },
          "metadata": {},
          "execution_count": 5
        }
      ]
    },
    {
      "cell_type": "code",
      "metadata": {
        "colab": {
          "base_uri": "https://localhost:8080/"
        },
        "id": "9VW-AL9FLQ0u",
        "outputId": "81575526-a5c2-4835-b156-6e88ebc6f242"
      },
      "source": [
        "HR_df.Work_accident.value_counts()"
      ],
      "execution_count": 6,
      "outputs": [
        {
          "output_type": "execute_result",
          "data": {
            "text/plain": [
              "0    12830\n",
              "1     2169\n",
              "Name: Work_accident, dtype: int64"
            ]
          },
          "metadata": {},
          "execution_count": 6
        }
      ]
    },
    {
      "cell_type": "code",
      "metadata": {
        "colab": {
          "base_uri": "https://localhost:8080/"
        },
        "id": "9Z9lO9KaL5ex",
        "outputId": "dcc226c0-47c7-46ea-a5a7-6132492e0d2b"
      },
      "source": [
        "HR_df.left.value_counts()"
      ],
      "execution_count": 7,
      "outputs": [
        {
          "output_type": "execute_result",
          "data": {
            "text/plain": [
              "0    11428\n",
              "1     3571\n",
              "Name: left, dtype: int64"
            ]
          },
          "metadata": {},
          "execution_count": 7
        }
      ]
    },
    {
      "cell_type": "code",
      "metadata": {
        "colab": {
          "base_uri": "https://localhost:8080/"
        },
        "id": "_n1_pO5kdVo1",
        "outputId": "f24b4010-e0e7-4098-cda9-b586b52e559c"
      },
      "source": [
        "X_features = list( HR_df.columns )\n",
        "X_features.remove('promotion_last_5years')\n",
        "X_features.remove ('Work_accident')\n",
        "X_features.remove('left')\n",
        "X_features"
      ],
      "execution_count": 8,
      "outputs": [
        {
          "output_type": "execute_result",
          "data": {
            "text/plain": [
              "['satisfaction_level',\n",
              " 'last_evaluation',\n",
              " 'number_project',\n",
              " 'average_montly_hours',\n",
              " 'time_spend_company',\n",
              " 'Department',\n",
              " 'salary']"
            ]
          },
          "metadata": {},
          "execution_count": 8
        }
      ]
    },
    {
      "cell_type": "markdown",
      "metadata": {
        "id": "emd7va0jddKC"
      },
      "source": [
        "**Encoding Categorical Features**"
      ]
    },
    {
      "cell_type": "code",
      "metadata": {
        "id": "4QostYnMdXlZ"
      },
      "source": [
        "encoded_HR_df = pd.get_dummies( HR_df[X_features],\n",
        "drop_first = True )"
      ],
      "execution_count": 9,
      "outputs": []
    },
    {
      "cell_type": "code",
      "metadata": {
        "colab": {
          "base_uri": "https://localhost:8080/"
        },
        "id": "srz_0oQ0dkK5",
        "outputId": "9950697b-ac82-44b5-f412-71c8a8e842ae"
      },
      "source": [
        "list(encoded_HR_df.columns)"
      ],
      "execution_count": 10,
      "outputs": [
        {
          "output_type": "execute_result",
          "data": {
            "text/plain": [
              "['satisfaction_level',\n",
              " 'last_evaluation',\n",
              " 'number_project',\n",
              " 'average_montly_hours',\n",
              " 'time_spend_company',\n",
              " 'Department_RandD',\n",
              " 'Department_accounting',\n",
              " 'Department_hr',\n",
              " 'Department_management',\n",
              " 'Department_marketing',\n",
              " 'Department_product_mng',\n",
              " 'Department_sales',\n",
              " 'Department_support',\n",
              " 'Department_technical',\n",
              " 'salary_low',\n",
              " 'salary_medium']"
            ]
          },
          "metadata": {},
          "execution_count": 10
        }
      ]
    },
    {
      "cell_type": "code",
      "metadata": {
        "colab": {
          "base_uri": "https://localhost:8080/",
          "height": 224
        },
        "id": "SRggSoOjdpiN",
        "outputId": "b836eb27-b6a3-49e7-8802-8cd77c44c465"
      },
      "source": [
        "encoded_HR_df[['Department_hr','Department_accounting','Department_management'\n",
        ",'Department_marketing','Department_product_mng','Department_sales','Department_support'\n",
        ",'Department_technical','Department_RandD']].head()"
      ],
      "execution_count": 11,
      "outputs": [
        {
          "output_type": "execute_result",
          "data": {
            "text/html": [
              "<div>\n",
              "<style scoped>\n",
              "    .dataframe tbody tr th:only-of-type {\n",
              "        vertical-align: middle;\n",
              "    }\n",
              "\n",
              "    .dataframe tbody tr th {\n",
              "        vertical-align: top;\n",
              "    }\n",
              "\n",
              "    .dataframe thead th {\n",
              "        text-align: right;\n",
              "    }\n",
              "</style>\n",
              "<table border=\"1\" class=\"dataframe\">\n",
              "  <thead>\n",
              "    <tr style=\"text-align: right;\">\n",
              "      <th></th>\n",
              "      <th>Department_hr</th>\n",
              "      <th>Department_accounting</th>\n",
              "      <th>Department_management</th>\n",
              "      <th>Department_marketing</th>\n",
              "      <th>Department_product_mng</th>\n",
              "      <th>Department_sales</th>\n",
              "      <th>Department_support</th>\n",
              "      <th>Department_technical</th>\n",
              "      <th>Department_RandD</th>\n",
              "    </tr>\n",
              "  </thead>\n",
              "  <tbody>\n",
              "    <tr>\n",
              "      <th>0</th>\n",
              "      <td>0</td>\n",
              "      <td>0</td>\n",
              "      <td>0</td>\n",
              "      <td>0</td>\n",
              "      <td>0</td>\n",
              "      <td>1</td>\n",
              "      <td>0</td>\n",
              "      <td>0</td>\n",
              "      <td>0</td>\n",
              "    </tr>\n",
              "    <tr>\n",
              "      <th>1</th>\n",
              "      <td>0</td>\n",
              "      <td>0</td>\n",
              "      <td>0</td>\n",
              "      <td>0</td>\n",
              "      <td>0</td>\n",
              "      <td>1</td>\n",
              "      <td>0</td>\n",
              "      <td>0</td>\n",
              "      <td>0</td>\n",
              "    </tr>\n",
              "    <tr>\n",
              "      <th>2</th>\n",
              "      <td>0</td>\n",
              "      <td>0</td>\n",
              "      <td>0</td>\n",
              "      <td>0</td>\n",
              "      <td>0</td>\n",
              "      <td>1</td>\n",
              "      <td>0</td>\n",
              "      <td>0</td>\n",
              "      <td>0</td>\n",
              "    </tr>\n",
              "    <tr>\n",
              "      <th>3</th>\n",
              "      <td>0</td>\n",
              "      <td>0</td>\n",
              "      <td>0</td>\n",
              "      <td>0</td>\n",
              "      <td>0</td>\n",
              "      <td>1</td>\n",
              "      <td>0</td>\n",
              "      <td>0</td>\n",
              "      <td>0</td>\n",
              "    </tr>\n",
              "    <tr>\n",
              "      <th>4</th>\n",
              "      <td>0</td>\n",
              "      <td>0</td>\n",
              "      <td>0</td>\n",
              "      <td>0</td>\n",
              "      <td>0</td>\n",
              "      <td>1</td>\n",
              "      <td>0</td>\n",
              "      <td>0</td>\n",
              "      <td>0</td>\n",
              "    </tr>\n",
              "  </tbody>\n",
              "</table>\n",
              "</div>"
            ],
            "text/plain": [
              "   Department_hr  Department_accounting  ...  Department_technical  Department_RandD\n",
              "0              0                      0  ...                     0                 0\n",
              "1              0                      0  ...                     0                 0\n",
              "2              0                      0  ...                     0                 0\n",
              "3              0                      0  ...                     0                 0\n",
              "4              0                      0  ...                     0                 0\n",
              "\n",
              "[5 rows x 9 columns]"
            ]
          },
          "metadata": {},
          "execution_count": 11
        }
      ]
    },
    {
      "cell_type": "code",
      "metadata": {
        "colab": {
          "base_uri": "https://localhost:8080/"
        },
        "id": "2w0aJ4TvdxM-",
        "outputId": "7d73f248-ebe6-4bc1-dea7-b4fd8da5ee13"
      },
      "source": [
        "import statsmodels.api as sm\n",
        "Y = HR_df.left\n",
        "X = sm.add_constant( encoded_HR_df )"
      ],
      "execution_count": 12,
      "outputs": [
        {
          "output_type": "stream",
          "name": "stderr",
          "text": [
            "/usr/local/lib/python3.7/dist-packages/statsmodels/tools/_testing.py:19: FutureWarning: pandas.util.testing is deprecated. Use the functions in the public API at pandas.testing instead.\n",
            "  import pandas.util.testing as tm\n"
          ]
        }
      ]
    },
    {
      "cell_type": "markdown",
      "metadata": {
        "id": "mRSgp33jd5nd"
      },
      "source": [
        "**Splitting into Train and Validation Sets**"
      ]
    },
    {
      "cell_type": "code",
      "metadata": {
        "id": "HkBb_lHKd8Gg"
      },
      "source": [
        "from sklearn.model_selection import train_test_split\n",
        "X_train, X_test, y_train, y_test = train_test_split(X,\n",
        "Y,\n",
        "test_size = 0.3,\n",
        "random_state = 42)"
      ],
      "execution_count": 13,
      "outputs": []
    },
    {
      "cell_type": "markdown",
      "metadata": {
        "id": "ha43GKA8eDBI"
      },
      "source": [
        "**Building Logistic Regression Model**"
      ]
    },
    {
      "cell_type": "code",
      "metadata": {
        "colab": {
          "base_uri": "https://localhost:8080/"
        },
        "id": "76aRejV9eA9c",
        "outputId": "c4353054-3280-45f2-8827-f23376886fdd"
      },
      "source": [
        "import statsmodels.api as sm\n",
        "logit = sm.Logit(y_train, X_train)\n",
        "logit_model = logit.fit()"
      ],
      "execution_count": 14,
      "outputs": [
        {
          "output_type": "stream",
          "name": "stdout",
          "text": [
            "Optimization terminated successfully.\n",
            "         Current function value: 0.439545\n",
            "         Iterations 7\n"
          ]
        }
      ]
    },
    {
      "cell_type": "markdown",
      "metadata": {
        "id": "s6Co_PWZeMnx"
      },
      "source": [
        "**Printing Model Summary**"
      ]
    },
    {
      "cell_type": "code",
      "metadata": {
        "colab": {
          "base_uri": "https://localhost:8080/",
          "height": 567
        },
        "id": "qoCZp0TmeKgp",
        "outputId": "4704a0e2-e19d-4c3c-c610-cf22278c1b98"
      },
      "source": [
        "logit_model.summary2()"
      ],
      "execution_count": 15,
      "outputs": [
        {
          "output_type": "execute_result",
          "data": {
            "text/html": [
              "<table class=\"simpletable\">\n",
              "<tr>\n",
              "        <td>Model:</td>              <td>Logit</td>      <td>Pseudo R-squared:</td>   <td>0.199</td>  \n",
              "</tr>\n",
              "<tr>\n",
              "  <td>Dependent Variable:</td>       <td>left</td>             <td>AIC:</td>        <td>9263.5679</td>\n",
              "</tr>\n",
              "<tr>\n",
              "         <td>Date:</td>        <td>2021-09-01 09:41</td>       <td>BIC:</td>        <td>9386.9715</td>\n",
              "</tr>\n",
              "<tr>\n",
              "   <td>No. Observations:</td>        <td>10499</td>       <td>Log-Likelihood:</td>   <td>-4614.8</td> \n",
              "</tr>\n",
              "<tr>\n",
              "       <td>Df Model:</td>             <td>16</td>            <td>LL-Null:</td>       <td>-5761.7</td> \n",
              "</tr>\n",
              "<tr>\n",
              "     <td>Df Residuals:</td>          <td>10482</td>        <td>LLR p-value:</td>     <td>0.0000</td>  \n",
              "</tr>\n",
              "<tr>\n",
              "      <td>Converged:</td>           <td>1.0000</td>           <td>Scale:</td>        <td>1.0000</td>  \n",
              "</tr>\n",
              "<tr>\n",
              "    <td>No. Iterations:</td>        <td>7.0000</td>              <td></td>              <td></td>     \n",
              "</tr>\n",
              "</table>\n",
              "<table class=\"simpletable\">\n",
              "<tr>\n",
              "             <td></td>             <th>Coef.</th>  <th>Std.Err.</th>     <th>z</th>     <th>P>|z|</th> <th>[0.025</th>  <th>0.975]</th> \n",
              "</tr>\n",
              "<tr>\n",
              "  <th>const</th>                  <td>-1.8472</td>  <td>0.2295</td>   <td>-8.0497</td> <td>0.0000</td> <td>-2.2969</td> <td>-1.3974</td>\n",
              "</tr>\n",
              "<tr>\n",
              "  <th>satisfaction_level</th>     <td>-4.1845</td>  <td>0.1155</td>  <td>-36.2169</td> <td>0.0000</td> <td>-4.4110</td> <td>-3.9581</td>\n",
              "</tr>\n",
              "<tr>\n",
              "  <th>last_evaluation</th>        <td>0.6211</td>   <td>0.1752</td>   <td>3.5447</td>  <td>0.0004</td> <td>0.2777</td>  <td>0.9646</td> \n",
              "</tr>\n",
              "<tr>\n",
              "  <th>number_project</th>         <td>-0.2939</td>  <td>0.0249</td>  <td>-11.7987</td> <td>0.0000</td> <td>-0.3427</td> <td>-0.2451</td>\n",
              "</tr>\n",
              "<tr>\n",
              "  <th>average_montly_hours</th>   <td>0.0048</td>   <td>0.0006</td>   <td>7.8810</td>  <td>0.0000</td> <td>0.0036</td>  <td>0.0060</td> \n",
              "</tr>\n",
              "<tr>\n",
              "  <th>time_spend_company</th>     <td>0.2436</td>   <td>0.0181</td>   <td>13.4610</td> <td>0.0000</td> <td>0.2081</td>  <td>0.2791</td> \n",
              "</tr>\n",
              "<tr>\n",
              "  <th>Department_RandD</th>       <td>-0.6326</td>  <td>0.1647</td>   <td>-3.8420</td> <td>0.0001</td> <td>-0.9554</td> <td>-0.3099</td>\n",
              "</tr>\n",
              "<tr>\n",
              "  <th>Department_accounting</th>  <td>0.2158</td>   <td>0.1447</td>   <td>1.4909</td>  <td>0.1360</td> <td>-0.0679</td> <td>0.4994</td> \n",
              "</tr>\n",
              "<tr>\n",
              "  <th>Department_hr</th>          <td>0.4218</td>   <td>0.1458</td>   <td>2.8940</td>  <td>0.0038</td> <td>0.1362</td>  <td>0.7075</td> \n",
              "</tr>\n",
              "<tr>\n",
              "  <th>Department_management</th>  <td>-0.3503</td>  <td>0.1751</td>   <td>-2.0005</td> <td>0.0454</td> <td>-0.6936</td> <td>-0.0071</td>\n",
              "</tr>\n",
              "<tr>\n",
              "  <th>Department_marketing</th>   <td>0.2046</td>   <td>0.1438</td>   <td>1.4225</td>  <td>0.1549</td> <td>-0.0773</td> <td>0.4864</td> \n",
              "</tr>\n",
              "<tr>\n",
              "  <th>Department_product_mng</th> <td>0.1191</td>   <td>0.1383</td>   <td>0.8610</td>  <td>0.3892</td> <td>-0.1520</td> <td>0.3901</td> \n",
              "</tr>\n",
              "<tr>\n",
              "  <th>Department_sales</th>       <td>0.1271</td>   <td>0.1056</td>   <td>1.2033</td>  <td>0.2288</td> <td>-0.0799</td> <td>0.3342</td> \n",
              "</tr>\n",
              "<tr>\n",
              "  <th>Department_support</th>     <td>0.1323</td>   <td>0.1158</td>   <td>1.1422</td>  <td>0.2534</td> <td>-0.0947</td> <td>0.3593</td> \n",
              "</tr>\n",
              "<tr>\n",
              "  <th>Department_technical</th>   <td>0.2447</td>   <td>0.1115</td>   <td>2.1944</td>  <td>0.0282</td> <td>0.0261</td>  <td>0.4632</td> \n",
              "</tr>\n",
              "<tr>\n",
              "  <th>salary_low</th>             <td>2.0372</td>   <td>0.1583</td>   <td>12.8710</td> <td>0.0000</td> <td>1.7270</td>  <td>2.3474</td> \n",
              "</tr>\n",
              "<tr>\n",
              "  <th>salary_medium</th>          <td>1.5151</td>   <td>0.1590</td>   <td>9.5271</td>  <td>0.0000</td> <td>1.2034</td>  <td>1.8268</td> \n",
              "</tr>\n",
              "</table>"
            ],
            "text/plain": [
              "<class 'statsmodels.iolib.summary2.Summary'>\n",
              "\"\"\"\n",
              "                            Results: Logit\n",
              "=======================================================================\n",
              "Model:                 Logit              Pseudo R-squared:   0.199    \n",
              "Dependent Variable:    left               AIC:                9263.5679\n",
              "Date:                  2021-09-01 09:41   BIC:                9386.9715\n",
              "No. Observations:      10499              Log-Likelihood:     -4614.8  \n",
              "Df Model:              16                 LL-Null:            -5761.7  \n",
              "Df Residuals:          10482              LLR p-value:        0.0000   \n",
              "Converged:             1.0000             Scale:              1.0000   \n",
              "No. Iterations:        7.0000                                          \n",
              "-----------------------------------------------------------------------\n",
              "                        Coef.  Std.Err.    z     P>|z|   [0.025  0.975]\n",
              "-----------------------------------------------------------------------\n",
              "const                  -1.8472   0.2295  -8.0497 0.0000 -2.2969 -1.3974\n",
              "satisfaction_level     -4.1845   0.1155 -36.2169 0.0000 -4.4110 -3.9581\n",
              "last_evaluation         0.6211   0.1752   3.5447 0.0004  0.2777  0.9646\n",
              "number_project         -0.2939   0.0249 -11.7987 0.0000 -0.3427 -0.2451\n",
              "average_montly_hours    0.0048   0.0006   7.8810 0.0000  0.0036  0.0060\n",
              "time_spend_company      0.2436   0.0181  13.4610 0.0000  0.2081  0.2791\n",
              "Department_RandD       -0.6326   0.1647  -3.8420 0.0001 -0.9554 -0.3099\n",
              "Department_accounting   0.2158   0.1447   1.4909 0.1360 -0.0679  0.4994\n",
              "Department_hr           0.4218   0.1458   2.8940 0.0038  0.1362  0.7075\n",
              "Department_management  -0.3503   0.1751  -2.0005 0.0454 -0.6936 -0.0071\n",
              "Department_marketing    0.2046   0.1438   1.4225 0.1549 -0.0773  0.4864\n",
              "Department_product_mng  0.1191   0.1383   0.8610 0.3892 -0.1520  0.3901\n",
              "Department_sales        0.1271   0.1056   1.2033 0.2288 -0.0799  0.3342\n",
              "Department_support      0.1323   0.1158   1.1422 0.2534 -0.0947  0.3593\n",
              "Department_technical    0.2447   0.1115   2.1944 0.0282  0.0261  0.4632\n",
              "salary_low              2.0372   0.1583  12.8710 0.0000  1.7270  2.3474\n",
              "salary_medium           1.5151   0.1590   9.5271 0.0000  1.2034  1.8268\n",
              "=======================================================================\n",
              "\n",
              "\"\"\""
            ]
          },
          "metadata": {},
          "execution_count": 15
        }
      ]
    },
    {
      "cell_type": "markdown",
      "metadata": {
        "id": "IPVRMxY2eU8_"
      },
      "source": [
        "**Model Dignostics**"
      ]
    },
    {
      "cell_type": "code",
      "metadata": {
        "id": "js6Sct2leIfm"
      },
      "source": [
        "def get_significant_vars( lm ):\n",
        "    var_p_vals_df = pd.DataFrame( lm.pvalues )\n",
        "    var_p_vals_df['vars'] = var_p_vals_df.index\n",
        "    var_p_vals_df.columns = ['pvals', 'vars']\n",
        "    return list( var_p_vals_df[var_p_vals_df.pvals <= 0.05]['vars'] )"
      ],
      "execution_count": 16,
      "outputs": []
    },
    {
      "cell_type": "code",
      "metadata": {
        "colab": {
          "base_uri": "https://localhost:8080/"
        },
        "id": "qOeBFGRrehSw",
        "outputId": "e3dc7888-c950-47cd-eb0b-9afde1b6fb7f"
      },
      "source": [
        "significant_vars = get_significant_vars( logit_model )\n",
        "significant_vars"
      ],
      "execution_count": 17,
      "outputs": [
        {
          "output_type": "execute_result",
          "data": {
            "text/plain": [
              "['const',\n",
              " 'satisfaction_level',\n",
              " 'last_evaluation',\n",
              " 'number_project',\n",
              " 'average_montly_hours',\n",
              " 'time_spend_company',\n",
              " 'Department_RandD',\n",
              " 'Department_hr',\n",
              " 'Department_management',\n",
              " 'Department_technical',\n",
              " 'salary_low',\n",
              " 'salary_medium']"
            ]
          },
          "metadata": {},
          "execution_count": 17
        }
      ]
    },
    {
      "cell_type": "code",
      "metadata": {
        "colab": {
          "base_uri": "https://localhost:8080/"
        },
        "id": "Qy9325vKekSI",
        "outputId": "2742e56f-62d2-4d6c-ef83-464e0f9cc2eb"
      },
      "source": [
        "final_logit = sm.Logit( y_train,\n",
        "sm.add_constant( X_train[significant_vars] ) ).fit()"
      ],
      "execution_count": 18,
      "outputs": [
        {
          "output_type": "stream",
          "name": "stdout",
          "text": [
            "Optimization terminated successfully.\n",
            "         Current function value: 0.439689\n",
            "         Iterations 7\n"
          ]
        }
      ]
    },
    {
      "cell_type": "code",
      "metadata": {
        "colab": {
          "base_uri": "https://localhost:8080/",
          "height": 462
        },
        "id": "wiFNgxJResm0",
        "outputId": "5969e6c2-2ab6-4e44-e358-97cab6ba5fb7"
      },
      "source": [
        "final_logit.summary2()"
      ],
      "execution_count": 19,
      "outputs": [
        {
          "output_type": "execute_result",
          "data": {
            "text/html": [
              "<table class=\"simpletable\">\n",
              "<tr>\n",
              "        <td>Model:</td>              <td>Logit</td>      <td>Pseudo R-squared:</td>   <td>0.199</td>  \n",
              "</tr>\n",
              "<tr>\n",
              "  <td>Dependent Variable:</td>       <td>left</td>             <td>AIC:</td>        <td>9256.5854</td>\n",
              "</tr>\n",
              "<tr>\n",
              "         <td>Date:</td>        <td>2021-09-01 09:41</td>       <td>BIC:</td>        <td>9343.6939</td>\n",
              "</tr>\n",
              "<tr>\n",
              "   <td>No. Observations:</td>        <td>10499</td>       <td>Log-Likelihood:</td>   <td>-4616.3</td> \n",
              "</tr>\n",
              "<tr>\n",
              "       <td>Df Model:</td>             <td>11</td>            <td>LL-Null:</td>       <td>-5761.7</td> \n",
              "</tr>\n",
              "<tr>\n",
              "     <td>Df Residuals:</td>          <td>10487</td>        <td>LLR p-value:</td>     <td>0.0000</td>  \n",
              "</tr>\n",
              "<tr>\n",
              "      <td>Converged:</td>           <td>1.0000</td>           <td>Scale:</td>        <td>1.0000</td>  \n",
              "</tr>\n",
              "<tr>\n",
              "    <td>No. Iterations:</td>        <td>7.0000</td>              <td></td>              <td></td>     \n",
              "</tr>\n",
              "</table>\n",
              "<table class=\"simpletable\">\n",
              "<tr>\n",
              "            <td></td>             <th>Coef.</th>  <th>Std.Err.</th>     <th>z</th>     <th>P>|z|</th> <th>[0.025</th>  <th>0.975]</th> \n",
              "</tr>\n",
              "<tr>\n",
              "  <th>const</th>                 <td>-1.7139</td>  <td>0.2105</td>   <td>-8.1436</td> <td>0.0000</td> <td>-2.1263</td> <td>-1.3014</td>\n",
              "</tr>\n",
              "<tr>\n",
              "  <th>satisfaction_level</th>    <td>-4.1869</td>  <td>0.1155</td>  <td>-36.2498</td> <td>0.0000</td> <td>-4.4133</td> <td>-3.9606</td>\n",
              "</tr>\n",
              "<tr>\n",
              "  <th>last_evaluation</th>       <td>0.6190</td>   <td>0.1751</td>   <td>3.5350</td>  <td>0.0004</td> <td>0.2758</td>  <td>0.9623</td> \n",
              "</tr>\n",
              "<tr>\n",
              "  <th>number_project</th>        <td>-0.2940</td>  <td>0.0249</td>  <td>-11.8050</td> <td>0.0000</td> <td>-0.3428</td> <td>-0.2452</td>\n",
              "</tr>\n",
              "<tr>\n",
              "  <th>average_montly_hours</th>  <td>0.0048</td>   <td>0.0006</td>   <td>7.8739</td>  <td>0.0000</td> <td>0.0036</td>  <td>0.0060</td> \n",
              "</tr>\n",
              "<tr>\n",
              "  <th>time_spend_company</th>    <td>0.2440</td>   <td>0.0181</td>   <td>13.5071</td> <td>0.0000</td> <td>0.2086</td>  <td>0.2794</td> \n",
              "</tr>\n",
              "<tr>\n",
              "  <th>Department_RandD</th>      <td>-0.7591</td>  <td>0.1389</td>   <td>-5.4659</td> <td>0.0000</td> <td>-1.0313</td> <td>-0.4869</td>\n",
              "</tr>\n",
              "<tr>\n",
              "  <th>Department_hr</th>         <td>0.2955</td>   <td>0.1158</td>   <td>2.5518</td>  <td>0.0107</td> <td>0.0685</td>  <td>0.5225</td> \n",
              "</tr>\n",
              "<tr>\n",
              "  <th>Department_management</th> <td>-0.4776</td>  <td>0.1510</td>   <td>-3.1622</td> <td>0.0016</td> <td>-0.7736</td> <td>-0.1816</td>\n",
              "</tr>\n",
              "<tr>\n",
              "  <th>Department_technical</th>  <td>0.1184</td>   <td>0.0678</td>   <td>1.7457</td>  <td>0.0809</td> <td>-0.0145</td> <td>0.2513</td> \n",
              "</tr>\n",
              "<tr>\n",
              "  <th>salary_low</th>            <td>2.0335</td>   <td>0.1581</td>   <td>12.8579</td> <td>0.0000</td> <td>1.7235</td>  <td>2.3434</td> \n",
              "</tr>\n",
              "<tr>\n",
              "  <th>salary_medium</th>         <td>1.5113</td>   <td>0.1589</td>   <td>9.5093</td>  <td>0.0000</td> <td>1.1998</td>  <td>1.8228</td> \n",
              "</tr>\n",
              "</table>"
            ],
            "text/plain": [
              "<class 'statsmodels.iolib.summary2.Summary'>\n",
              "\"\"\"\n",
              "                            Results: Logit\n",
              "======================================================================\n",
              "Model:                Logit              Pseudo R-squared:   0.199    \n",
              "Dependent Variable:   left               AIC:                9256.5854\n",
              "Date:                 2021-09-01 09:41   BIC:                9343.6939\n",
              "No. Observations:     10499              Log-Likelihood:     -4616.3  \n",
              "Df Model:             11                 LL-Null:            -5761.7  \n",
              "Df Residuals:         10487              LLR p-value:        0.0000   \n",
              "Converged:            1.0000             Scale:              1.0000   \n",
              "No. Iterations:       7.0000                                          \n",
              "----------------------------------------------------------------------\n",
              "                       Coef.  Std.Err.    z     P>|z|   [0.025  0.975]\n",
              "----------------------------------------------------------------------\n",
              "const                 -1.7139   0.2105  -8.1436 0.0000 -2.1263 -1.3014\n",
              "satisfaction_level    -4.1869   0.1155 -36.2498 0.0000 -4.4133 -3.9606\n",
              "last_evaluation        0.6190   0.1751   3.5350 0.0004  0.2758  0.9623\n",
              "number_project        -0.2940   0.0249 -11.8050 0.0000 -0.3428 -0.2452\n",
              "average_montly_hours   0.0048   0.0006   7.8739 0.0000  0.0036  0.0060\n",
              "time_spend_company     0.2440   0.0181  13.5071 0.0000  0.2086  0.2794\n",
              "Department_RandD      -0.7591   0.1389  -5.4659 0.0000 -1.0313 -0.4869\n",
              "Department_hr          0.2955   0.1158   2.5518 0.0107  0.0685  0.5225\n",
              "Department_management -0.4776   0.1510  -3.1622 0.0016 -0.7736 -0.1816\n",
              "Department_technical   0.1184   0.0678   1.7457 0.0809 -0.0145  0.2513\n",
              "salary_low             2.0335   0.1581  12.8579 0.0000  1.7235  2.3434\n",
              "salary_medium          1.5113   0.1589   9.5093 0.0000  1.1998  1.8228\n",
              "======================================================================\n",
              "\n",
              "\"\"\""
            ]
          },
          "metadata": {},
          "execution_count": 19
        }
      ]
    },
    {
      "cell_type": "markdown",
      "metadata": {
        "id": "c1Qf51qoewt2"
      },
      "source": [
        "**Predicting on Test Data**"
      ]
    },
    {
      "cell_type": "code",
      "metadata": {
        "id": "z45W99KAeydP"
      },
      "source": [
        "y_pred_df = pd.DataFrame( { \"actual\": y_test,\n",
        "\"predicted_prob\": final_logit.predict(\n",
        "sm.add_constant( X_test[significant_vars] ) ) } )"
      ],
      "execution_count": 20,
      "outputs": []
    },
    {
      "cell_type": "code",
      "metadata": {
        "colab": {
          "base_uri": "https://localhost:8080/",
          "height": 359
        },
        "id": "EvBvrGo6e4lT",
        "outputId": "29715e8d-c8ef-4316-e3f0-5ddc8e69aae7"
      },
      "source": [
        "y_pred_df.sample(10, random_state = 42)"
      ],
      "execution_count": 22,
      "outputs": [
        {
          "output_type": "execute_result",
          "data": {
            "text/html": [
              "<div>\n",
              "<style scoped>\n",
              "    .dataframe tbody tr th:only-of-type {\n",
              "        vertical-align: middle;\n",
              "    }\n",
              "\n",
              "    .dataframe tbody tr th {\n",
              "        vertical-align: top;\n",
              "    }\n",
              "\n",
              "    .dataframe thead th {\n",
              "        text-align: right;\n",
              "    }\n",
              "</style>\n",
              "<table border=\"1\" class=\"dataframe\">\n",
              "  <thead>\n",
              "    <tr style=\"text-align: right;\">\n",
              "      <th></th>\n",
              "      <th>actual</th>\n",
              "      <th>predicted_prob</th>\n",
              "      <th>predicted</th>\n",
              "    </tr>\n",
              "  </thead>\n",
              "  <tbody>\n",
              "    <tr>\n",
              "      <th>13995</th>\n",
              "      <td>0</td>\n",
              "      <td>0.019706</td>\n",
              "      <td>0</td>\n",
              "    </tr>\n",
              "    <tr>\n",
              "      <th>4442</th>\n",
              "      <td>0</td>\n",
              "      <td>0.245814</td>\n",
              "      <td>0</td>\n",
              "    </tr>\n",
              "    <tr>\n",
              "      <th>8091</th>\n",
              "      <td>0</td>\n",
              "      <td>0.153388</td>\n",
              "      <td>0</td>\n",
              "    </tr>\n",
              "    <tr>\n",
              "      <th>9822</th>\n",
              "      <td>0</td>\n",
              "      <td>0.030663</td>\n",
              "      <td>0</td>\n",
              "    </tr>\n",
              "    <tr>\n",
              "      <th>6151</th>\n",
              "      <td>0</td>\n",
              "      <td>0.365633</td>\n",
              "      <td>0</td>\n",
              "    </tr>\n",
              "    <tr>\n",
              "      <th>6282</th>\n",
              "      <td>0</td>\n",
              "      <td>0.035061</td>\n",
              "      <td>0</td>\n",
              "    </tr>\n",
              "    <tr>\n",
              "      <th>511</th>\n",
              "      <td>1</td>\n",
              "      <td>0.510831</td>\n",
              "      <td>1</td>\n",
              "    </tr>\n",
              "    <tr>\n",
              "      <th>11024</th>\n",
              "      <td>0</td>\n",
              "      <td>0.132012</td>\n",
              "      <td>0</td>\n",
              "    </tr>\n",
              "    <tr>\n",
              "      <th>3980</th>\n",
              "      <td>0</td>\n",
              "      <td>0.105325</td>\n",
              "      <td>0</td>\n",
              "    </tr>\n",
              "    <tr>\n",
              "      <th>4229</th>\n",
              "      <td>0</td>\n",
              "      <td>0.096444</td>\n",
              "      <td>0</td>\n",
              "    </tr>\n",
              "  </tbody>\n",
              "</table>\n",
              "</div>"
            ],
            "text/plain": [
              "       actual  predicted_prob  predicted\n",
              "13995       0        0.019706          0\n",
              "4442        0        0.245814          0\n",
              "8091        0        0.153388          0\n",
              "9822        0        0.030663          0\n",
              "6151        0        0.365633          0\n",
              "6282        0        0.035061          0\n",
              "511         1        0.510831          1\n",
              "11024       0        0.132012          0\n",
              "3980        0        0.105325          0\n",
              "4229        0        0.096444          0"
            ]
          },
          "metadata": {},
          "execution_count": 22
        }
      ]
    },
    {
      "cell_type": "code",
      "metadata": {
        "colab": {
          "base_uri": "https://localhost:8080/",
          "height": 359
        },
        "id": "TTLGzAGQfF_3",
        "outputId": "04ae3710-e807-4518-f39c-46f5bd835597"
      },
      "source": [
        "y_pred_df['predicted'] = y_pred_df.predicted_prob.map(\n",
        "lambda x: 1 if x > 0.5 else 0)\n",
        "\n",
        "y_pred_df.sample(10, random_state = 42)"
      ],
      "execution_count": 21,
      "outputs": [
        {
          "output_type": "execute_result",
          "data": {
            "text/html": [
              "<div>\n",
              "<style scoped>\n",
              "    .dataframe tbody tr th:only-of-type {\n",
              "        vertical-align: middle;\n",
              "    }\n",
              "\n",
              "    .dataframe tbody tr th {\n",
              "        vertical-align: top;\n",
              "    }\n",
              "\n",
              "    .dataframe thead th {\n",
              "        text-align: right;\n",
              "    }\n",
              "</style>\n",
              "<table border=\"1\" class=\"dataframe\">\n",
              "  <thead>\n",
              "    <tr style=\"text-align: right;\">\n",
              "      <th></th>\n",
              "      <th>actual</th>\n",
              "      <th>predicted_prob</th>\n",
              "      <th>predicted</th>\n",
              "    </tr>\n",
              "  </thead>\n",
              "  <tbody>\n",
              "    <tr>\n",
              "      <th>13995</th>\n",
              "      <td>0</td>\n",
              "      <td>0.019706</td>\n",
              "      <td>0</td>\n",
              "    </tr>\n",
              "    <tr>\n",
              "      <th>4442</th>\n",
              "      <td>0</td>\n",
              "      <td>0.245814</td>\n",
              "      <td>0</td>\n",
              "    </tr>\n",
              "    <tr>\n",
              "      <th>8091</th>\n",
              "      <td>0</td>\n",
              "      <td>0.153388</td>\n",
              "      <td>0</td>\n",
              "    </tr>\n",
              "    <tr>\n",
              "      <th>9822</th>\n",
              "      <td>0</td>\n",
              "      <td>0.030663</td>\n",
              "      <td>0</td>\n",
              "    </tr>\n",
              "    <tr>\n",
              "      <th>6151</th>\n",
              "      <td>0</td>\n",
              "      <td>0.365633</td>\n",
              "      <td>0</td>\n",
              "    </tr>\n",
              "    <tr>\n",
              "      <th>6282</th>\n",
              "      <td>0</td>\n",
              "      <td>0.035061</td>\n",
              "      <td>0</td>\n",
              "    </tr>\n",
              "    <tr>\n",
              "      <th>511</th>\n",
              "      <td>1</td>\n",
              "      <td>0.510831</td>\n",
              "      <td>1</td>\n",
              "    </tr>\n",
              "    <tr>\n",
              "      <th>11024</th>\n",
              "      <td>0</td>\n",
              "      <td>0.132012</td>\n",
              "      <td>0</td>\n",
              "    </tr>\n",
              "    <tr>\n",
              "      <th>3980</th>\n",
              "      <td>0</td>\n",
              "      <td>0.105325</td>\n",
              "      <td>0</td>\n",
              "    </tr>\n",
              "    <tr>\n",
              "      <th>4229</th>\n",
              "      <td>0</td>\n",
              "      <td>0.096444</td>\n",
              "      <td>0</td>\n",
              "    </tr>\n",
              "  </tbody>\n",
              "</table>\n",
              "</div>"
            ],
            "text/plain": [
              "       actual  predicted_prob  predicted\n",
              "13995       0        0.019706          0\n",
              "4442        0        0.245814          0\n",
              "8091        0        0.153388          0\n",
              "9822        0        0.030663          0\n",
              "6151        0        0.365633          0\n",
              "6282        0        0.035061          0\n",
              "511         1        0.510831          1\n",
              "11024       0        0.132012          0\n",
              "3980        0        0.105325          0\n",
              "4229        0        0.096444          0"
            ]
          },
          "metadata": {},
          "execution_count": 21
        }
      ]
    },
    {
      "cell_type": "markdown",
      "metadata": {
        "id": "Jxiso9jkfQZZ"
      },
      "source": [
        "**Creating a Confusion Matrix**"
      ]
    },
    {
      "cell_type": "code",
      "metadata": {
        "id": "zd5rQLwefSPo"
      },
      "source": [
        "import matplotlib.pyplot as plt\n",
        "import seaborn as sn\n",
        "%matplotlib inline\n",
        "from sklearn import metrics"
      ],
      "execution_count": 23,
      "outputs": []
    },
    {
      "cell_type": "code",
      "metadata": {
        "id": "j_WDULODfWZP"
      },
      "source": [
        "def draw_cm( actual, predicted ):\n",
        "## Cret\n",
        "    cm = metrics.confusion_matrix( actual, predicted, [1,0] )\n",
        "    sn.heatmap(cm, annot=True, fmt='.2f',\n",
        "                xticklabels = [\"Left\", \"Not Left\"] ,\n",
        "                yticklabels = [\"Left\", \"Not Left\"] )\n",
        "    plt.ylabel('True label')\n",
        "    plt.xlabel('Predicted label')\n",
        "    plt.show()"
      ],
      "execution_count": 24,
      "outputs": []
    },
    {
      "cell_type": "code",
      "metadata": {
        "colab": {
          "base_uri": "https://localhost:8080/",
          "height": 279
        },
        "id": "ruwl1LVzfoUF",
        "outputId": "fa407f44-794a-471b-9bab-23b4e1b2df87"
      },
      "source": [
        "draw_cm( y_pred_df.actual,\n",
        "y_pred_df.predicted )"
      ],
      "execution_count": 25,
      "outputs": [
        {
          "output_type": "display_data",
          "data": {
            "image/png": "[encoded data removed]",
            "text/plain": [
              "<Figure size 432x288 with 2 Axes>"
            ]
          },
          "metadata": {
            "needs_background": "light"
          }
        }
      ]
    },
    {
      "cell_type": "markdown",
      "metadata": {
        "id": "e-5mQfs2gAeO"
      },
      "source": [
        "**Measuring Accuracies**"
      ]
    },
    {
      "cell_type": "code",
      "metadata": {
        "colab": {
          "base_uri": "https://localhost:8080/"
        },
        "id": "8CeXImFWgCl8",
        "outputId": "628e4ba1-34ad-4a1b-bc02-94fd3a628bec"
      },
      "source": [
        "print( metrics.classification_report( y_pred_df.actual,\n",
        "y_pred_df.predicted ) )"
      ],
      "execution_count": 26,
      "outputs": [
        {
          "output_type": "stream",
          "name": "stdout",
          "text": [
            "              precision    recall  f1-score   support\n",
            "\n",
            "           0       0.80      0.92      0.86      3428\n",
            "           1       0.51      0.25      0.33      1072\n",
            "\n",
            "    accuracy                           0.76      4500\n",
            "   macro avg       0.65      0.59      0.59      4500\n",
            "weighted avg       0.73      0.76      0.73      4500\n",
            "\n"
          ]
        }
      ]
    },
    {
      "cell_type": "code",
      "metadata": {
        "colab": {
          "base_uri": "https://localhost:8080/",
          "height": 477
        },
        "id": "A8vkebzQgPEW",
        "outputId": "4d12b3c5-26f7-40bf-a4a4-7322eb4ac5de"
      },
      "source": [
        "plt.figure( figsize = (8,6) )\n",
        "sn.distplot( y_pred_df[y_pred_df.actual == 1][\"predicted_prob\"],\n",
        "kde=False, color = 'b',\n",
        "label = 'Left' )\n",
        "sn.distplot( y_pred_df[y_pred_df.actual == 0][\"predicted_prob\"],\n",
        "kde=False, color = 'g',\n",
        "label = 'Not Left' )\n",
        "plt.legend()\n",
        "plt.show()"
      ],
      "execution_count": 27,
      "outputs": [
        {
          "output_type": "stream",
          "name": "stderr",
          "text": [
            "/usr/local/lib/python3.7/dist-packages/seaborn/distributions.py:2557: FutureWarning: `distplot` is a deprecated function and will be removed in a future version. Please adapt your code to use either `displot` (a figure-level function with similar flexibility) or `histplot` (an axes-level function for histograms).\n",
            "  warnings.warn(msg, FutureWarning)\n",
            "/usr/local/lib/python3.7/dist-packages/seaborn/distributions.py:2557: FutureWarning: `distplot` is a deprecated function and will be removed in a future version. Please adapt your code to use either `displot` (a figure-level function with similar flexibility) or `histplot` (an axes-level function for histograms).\n",
            "  warnings.warn(msg, FutureWarning)\n"
          ]
        },
        {
          "output_type": "display_data",
          "data": {
            "image/png": "[encoded data removed]",
            "text/plain": [
              "<Figure size 576x432 with 1 Axes>"
            ]
          },
          "metadata": {
            "needs_background": "light"
          }
        }
      ]
    },
    {
      "cell_type": "markdown",
      "metadata": {
        "id": "9IbgHSg4gVfv"
      },
      "source": [
        "**ROC & AUC**"
      ]
    },
    {
      "cell_type": "code",
      "metadata": {
        "id": "qn1hFlo6gXZx"
      },
      "source": [
        "def draw_roc( actual, probs ):\n",
        "    fpr, \\\n",
        "    tpr, \\\n",
        "    thresholds = metrics.roc_curve( actual,\n",
        "                                    probs,\n",
        "                                    drop_intermediate = False )\n",
        "    auc_score = metrics.roc_auc_score( actual, probs )\n",
        "    plt.figure(figsize=(8, 6))\n",
        "    plt.plot( fpr, tpr, label='ROC curve (area = %0.2f)' % auc_score )\n",
        "    plt.plot([0, 1], [0, 1], 'k--')\n",
        "    plt.xlim([0.0, 1.0])\n",
        "    plt.ylim([0.0, 1.05])\n",
        "    plt.xlabel('False Positive Rate or [1 - True Negative Rate]')\n",
        "    plt.ylabel('True Positive Rate')\n",
        "    plt.legend(loc=\"lower right\")\n",
        "    plt.show()\n",
        "    \n",
        "    return fpr, tpr, thresholds"
      ],
      "execution_count": 28,
      "outputs": []
    },
    {
      "cell_type": "code",
      "metadata": {
        "colab": {
          "base_uri": "https://localhost:8080/",
          "height": 388
        },
        "id": "BhGm6bGKgzsb",
        "outputId": "0ffeb020-952d-492e-8b57-a54d99253c93"
      },
      "source": [
        "fpr, tpr, thresholds = draw_roc( y_pred_df.actual,\n",
        "y_pred_df.predicted_prob)"
      ],
      "execution_count": 29,
      "outputs": [
        {
          "output_type": "display_data",
          "data": {
            "image/png": "[encoded data removed]",
            "text/plain": [
              "<Figure size 576x432 with 1 Axes>"
            ]
          },
          "metadata": {
            "needs_background": "light"
          }
        }
      ]
    },
    {
      "cell_type": "code",
      "metadata": {
        "colab": {
          "base_uri": "https://localhost:8080/"
        },
        "id": "0_mQwrOyg7YD",
        "outputId": "1ec95108-ff55-4314-9e5d-f6cd6a713004"
      },
      "source": [
        "auc_score = metrics.roc_auc_score( y_pred_df.actual,\n",
        "y_pred_df.predicted_prob )\n",
        "round( float( auc_score ), 2 )"
      ],
      "execution_count": 30,
      "outputs": [
        {
          "output_type": "execute_result",
          "data": {
            "text/plain": [
              "0.8"
            ]
          },
          "metadata": {},
          "execution_count": 30
        }
      ]
    },
    {
      "cell_type": "markdown",
      "metadata": {
        "id": "L27NCa8nhCyA"
      },
      "source": [
        "**Finding Optimal Cutoff**\n",
        " \n",
        " Youden's index"
      ]
    },
    {
      "cell_type": "code",
      "metadata": {
        "colab": {
          "base_uri": "https://localhost:8080/",
          "height": 204
        },
        "id": "PXEQ7iK7hEPs",
        "outputId": "a88ebf54-7952-4ee3-daa8-e546312780b4"
      },
      "source": [
        "tpr_fpr = pd.DataFrame( { 'tpr': tpr,\n",
        "                          'fpr': fpr,\n",
        "                          'thresholds': thresholds } )\n",
        "tpr_fpr['diff'] = tpr_fpr.tpr - tpr_fpr.fpr\n",
        "tpr_fpr.sort_values( 'diff', ascending = False )[0:5]"
      ],
      "execution_count": 31,
      "outputs": [
        {
          "output_type": "execute_result",
          "data": {
            "text/html": [
              "<div>\n",
              "<style scoped>\n",
              "    .dataframe tbody tr th:only-of-type {\n",
              "        vertical-align: middle;\n",
              "    }\n",
              "\n",
              "    .dataframe tbody tr th {\n",
              "        vertical-align: top;\n",
              "    }\n",
              "\n",
              "    .dataframe thead th {\n",
              "        text-align: right;\n",
              "    }\n",
              "</style>\n",
              "<table border=\"1\" class=\"dataframe\">\n",
              "  <thead>\n",
              "    <tr style=\"text-align: right;\">\n",
              "      <th></th>\n",
              "      <th>tpr</th>\n",
              "      <th>fpr</th>\n",
              "      <th>thresholds</th>\n",
              "      <th>diff</th>\n",
              "    </tr>\n",
              "  </thead>\n",
              "  <tbody>\n",
              "    <tr>\n",
              "      <th>1322</th>\n",
              "      <td>0.695896</td>\n",
              "      <td>0.218495</td>\n",
              "      <td>0.281006</td>\n",
              "      <td>0.477401</td>\n",
              "    </tr>\n",
              "    <tr>\n",
              "      <th>1253</th>\n",
              "      <td>0.679104</td>\n",
              "      <td>0.201867</td>\n",
              "      <td>0.292079</td>\n",
              "      <td>0.477237</td>\n",
              "    </tr>\n",
              "    <tr>\n",
              "      <th>1310</th>\n",
              "      <td>0.693097</td>\n",
              "      <td>0.215869</td>\n",
              "      <td>0.282726</td>\n",
              "      <td>0.477228</td>\n",
              "    </tr>\n",
              "    <tr>\n",
              "      <th>1323</th>\n",
              "      <td>0.695896</td>\n",
              "      <td>0.218786</td>\n",
              "      <td>0.280915</td>\n",
              "      <td>0.477109</td>\n",
              "    </tr>\n",
              "    <tr>\n",
              "      <th>1254</th>\n",
              "      <td>0.679104</td>\n",
              "      <td>0.202159</td>\n",
              "      <td>0.291858</td>\n",
              "      <td>0.476946</td>\n",
              "    </tr>\n",
              "  </tbody>\n",
              "</table>\n",
              "</div>"
            ],
            "text/plain": [
              "           tpr       fpr  thresholds      diff\n",
              "1322  0.695896  0.218495    0.281006  0.477401\n",
              "1253  0.679104  0.201867    0.292079  0.477237\n",
              "1310  0.693097  0.215869    0.282726  0.477228\n",
              "1323  0.695896  0.218786    0.280915  0.477109\n",
              "1254  0.679104  0.202159    0.291858  0.476946"
            ]
          },
          "metadata": {},
          "execution_count": 31
        }
      ]
    },
    {
      "cell_type": "code",
      "metadata": {
        "id": "551aiZzWhUx_"
      },
      "source": [
        "y_pred_df['predicted_new'] = y_pred_df.predicted_prob.map(\n",
        "                                lambda x: 1 if x > 0.22 else 0)"
      ],
      "execution_count": 32,
      "outputs": []
    },
    {
      "cell_type": "code",
      "metadata": {
        "colab": {
          "base_uri": "https://localhost:8080/",
          "height": 279
        },
        "id": "eiLBNX3Lha1p",
        "outputId": "cf4dc439-fc8e-4953-8cec-b9e71479607c"
      },
      "source": [
        "draw_cm( y_pred_df.actual,\n",
        "        y_pred_df.predicted_new)"
      ],
      "execution_count": 33,
      "outputs": [
        {
          "output_type": "display_data",
          "data": {
            "image/png": "[encoded data removed]",
            "text/plain": [
              "<Figure size 432x288 with 2 Axes>"
            ]
          },
          "metadata": {
            "needs_background": "light"
          }
        }
      ]
    },
    {
      "cell_type": "code",
      "metadata": {
        "colab": {
          "base_uri": "https://localhost:8080/"
        },
        "id": "Ijy_vEuhhjOF",
        "outputId": "337b9e1b-6fad-4aa5-ebe1-b9684c8e19a2"
      },
      "source": [
        "print(metrics.classification_report( y_pred_df.actual,\n",
        "y_pred_df.predicted_new ))"
      ],
      "execution_count": 34,
      "outputs": [
        {
          "output_type": "stream",
          "name": "stdout",
          "text": [
            "              precision    recall  f1-score   support\n",
            "\n",
            "           0       0.90      0.70      0.79      3428\n",
            "           1       0.44      0.75      0.55      1072\n",
            "\n",
            "    accuracy                           0.71      4500\n",
            "   macro avg       0.67      0.73      0.67      4500\n",
            "weighted avg       0.79      0.71      0.73      4500\n",
            "\n"
          ]
        }
      ]
    }
  ]
}